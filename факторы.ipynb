{
 "cells": [
  {
   "attachments": {},
   "cell_type": "markdown",
   "metadata": {},
   "source": [
    "# Подопригора Анна БИ-3-20-01\n"
   ]
  },
  {
   "cell_type": "markdown",
   "metadata": {},
   "source": [
    "### Импорт библиотек"
   ]
  },
  {
   "cell_type": "code",
   "execution_count": 1,
   "metadata": {},
   "outputs": [],
   "source": [
    "import numpy as np\n",
    "import pandas as pd\n",
    "from matplotlib import pyplot as plt\n",
    "plt.style.use('ggplot')\n",
    "%matplotlib inline"
   ]
  },
  {
   "cell_type": "markdown",
   "metadata": {},
   "source": [
    "### Чтение данных"
   ]
  },
  {
   "cell_type": "code",
   "execution_count": 2,
   "metadata": {},
   "outputs": [
    {
     "data": {
      "text/html": [
       "<div>\n",
       "<style scoped>\n",
       "    .dataframe tbody tr th:only-of-type {\n",
       "        vertical-align: middle;\n",
       "    }\n",
       "\n",
       "    .dataframe tbody tr th {\n",
       "        vertical-align: top;\n",
       "    }\n",
       "\n",
       "    .dataframe thead th {\n",
       "        text-align: right;\n",
       "    }\n",
       "</style>\n",
       "<table border=\"1\" class=\"dataframe\">\n",
       "  <thead>\n",
       "    <tr style=\"text-align: right;\">\n",
       "      <th></th>\n",
       "      <th>№ предприятия</th>\n",
       "      <th>Y3</th>\n",
       "      <th>X6</th>\n",
       "      <th>X7</th>\n",
       "      <th>X9</th>\n",
       "      <th>X12</th>\n",
       "      <th>X14</th>\n",
       "      <th>X15</th>\n",
       "    </tr>\n",
       "  </thead>\n",
       "  <tbody>\n",
       "    <tr>\n",
       "      <th>0</th>\n",
       "      <td>1</td>\n",
       "      <td>13.26</td>\n",
       "      <td>0.40</td>\n",
       "      <td>1.37</td>\n",
       "      <td>0.23</td>\n",
       "      <td>167.69</td>\n",
       "      <td>6.40</td>\n",
       "      <td>17.72</td>\n",
       "    </tr>\n",
       "    <tr>\n",
       "      <th>1</th>\n",
       "      <td>2</td>\n",
       "      <td>10.16</td>\n",
       "      <td>0.26</td>\n",
       "      <td>1.49</td>\n",
       "      <td>0.39</td>\n",
       "      <td>186.10</td>\n",
       "      <td>7.80</td>\n",
       "      <td>18.39</td>\n",
       "    </tr>\n",
       "    <tr>\n",
       "      <th>2</th>\n",
       "      <td>3</td>\n",
       "      <td>13.72</td>\n",
       "      <td>0.40</td>\n",
       "      <td>1.44</td>\n",
       "      <td>0.43</td>\n",
       "      <td>220.45</td>\n",
       "      <td>9.76</td>\n",
       "      <td>26.46</td>\n",
       "    </tr>\n",
       "    <tr>\n",
       "      <th>3</th>\n",
       "      <td>4</td>\n",
       "      <td>12.85</td>\n",
       "      <td>0.50</td>\n",
       "      <td>1.42</td>\n",
       "      <td>0.18</td>\n",
       "      <td>169.30</td>\n",
       "      <td>7.90</td>\n",
       "      <td>22.37</td>\n",
       "    </tr>\n",
       "    <tr>\n",
       "      <th>4</th>\n",
       "      <td>5</td>\n",
       "      <td>10.63</td>\n",
       "      <td>0.40</td>\n",
       "      <td>1.35</td>\n",
       "      <td>0.15</td>\n",
       "      <td>39.53</td>\n",
       "      <td>5.35</td>\n",
       "      <td>28.13</td>\n",
       "    </tr>\n",
       "  </tbody>\n",
       "</table>\n",
       "</div>"
      ],
      "text/plain": [
       "   № предприятия     Y3    X6    X7    X9     X12   X14    X15\n",
       "0              1  13.26  0.40  1.37  0.23  167.69  6.40  17.72\n",
       "1              2  10.16  0.26  1.49  0.39  186.10  7.80  18.39\n",
       "2              3  13.72  0.40  1.44  0.43  220.45  9.76  26.46\n",
       "3              4  12.85  0.50  1.42  0.18  169.30  7.90  22.37\n",
       "4              5  10.63  0.40  1.35  0.15   39.53  5.35  28.13"
      ]
     },
     "execution_count": 2,
     "metadata": {},
     "output_type": "execute_result"
    }
   ],
   "source": [
    "data= pd.read_excel(\"C:\\\\Users\\\\annap\\\\Desktop\\\\вуз\\\\3 курс\\\\ЭКОНОМЕТРИКА\\\\РГЗ\\\\данные\\\\данные.xlsx\", header=0)\n",
    "data.head(5)"
   ]
  },
  {
   "cell_type": "code",
   "execution_count": 3,
   "metadata": {},
   "outputs": [],
   "source": [
    "X_regr=data[['X6','X7','X9','X12','X14','X15']]\n",
    "Y_regr=data['Y3']"
   ]
  },
  {
   "cell_type": "markdown",
   "metadata": {},
   "source": [
    "### Построение линейной регрессии"
   ]
  },
  {
   "cell_type": "code",
   "execution_count": 4,
   "metadata": {},
   "outputs": [],
   "source": [
    "from sklearn.linear_model import LinearRegression"
   ]
  },
  {
   "cell_type": "code",
   "execution_count": 5,
   "metadata": {},
   "outputs": [
    {
     "data": {
      "text/plain": [
       "array([-5.43195852,  4.35083075, -3.3447926 ,  0.0150884 , -0.80289952,\n",
       "       -0.40799025])"
      ]
     },
     "execution_count": 5,
     "metadata": {},
     "output_type": "execute_result"
    }
   ],
   "source": [
    "model = LinearRegression()\n",
    "model.fit(X_regr, Y_regr) # обучение модели\n",
    "w = model.coef_\n",
    "b = model.intercept_\n",
    "w"
   ]
  },
  {
   "cell_type": "markdown",
   "metadata": {},
   "source": [
    "### Коэффициент детерминации"
   ]
  },
  {
   "cell_type": "code",
   "execution_count": 6,
   "metadata": {},
   "outputs": [
    {
     "data": {
      "text/plain": [
       "0.15077048601893683"
      ]
     },
     "execution_count": 6,
     "metadata": {},
     "output_type": "execute_result"
    }
   ],
   "source": [
    "model.score(X_regr, Y_regr)"
   ]
  },
  {
   "cell_type": "markdown",
   "metadata": {},
   "source": [
    "### Ошибка аппроксимации"
   ]
  },
  {
   "cell_type": "code",
   "execution_count": 7,
   "metadata": {},
   "outputs": [
    {
     "name": "stdout",
     "output_type": "stream",
     "text": [
      "MSE:  27.808816808778943\n",
      "MAE:  4.167837130542981\n"
     ]
    }
   ],
   "source": [
    "from sklearn.metrics import mean_squared_error,mean_absolute_error\n",
    "y_predicted = model.predict(X_regr)\n",
    "print('MSE: ', mean_squared_error(Y_regr, y_predicted))\n",
    "print('MAE: ', mean_absolute_error(Y_regr, y_predicted))"
   ]
  },
  {
   "cell_type": "markdown",
   "metadata": {},
   "source": [
    "### Диаграмма остатков"
   ]
  },
  {
   "cell_type": "code",
   "execution_count": 8,
   "metadata": {},
   "outputs": [
    {
     "data": {
      "image/png": "[encoded data removed]",
      "text/plain": [
       "<Figure size 640x480 with 1 Axes>"
      ]
     },
     "metadata": {},
     "output_type": "display_data"
    }
   ],
   "source": [
    "plt.scatter(y_predicted,  y_predicted - Y_regr,\n",
    "            c='blue', marker='o', label='data')\n",
    "plt.xlabel('Predicted values')\n",
    "plt.ylabel('Residuals')\n",
    "plt.legend(loc='upper left')\n",
    "plt.tight_layout()"
   ]
  },
  {
   "cell_type": "markdown",
   "metadata": {},
   "source": [
    "### Метод наименьших квадратов"
   ]
  },
  {
   "cell_type": "code",
   "execution_count": 9,
   "metadata": {},
   "outputs": [],
   "source": [
    "import statsmodels.api as sm\n",
    "import statsmodels.formula.api as smf"
   ]
  },
  {
   "cell_type": "code",
   "execution_count": 12,
   "metadata": {},
   "outputs": [
    {
     "name": "stdout",
     "output_type": "stream",
     "text": [
      "                            OLS Regression Results                            \n",
      "==============================================================================\n",
      "Dep. Variable:                     Y3   R-squared:                       0.151\n",
      "Model:                            OLS   Adj. R-squared:                  0.032\n",
      "Method:                 Least Squares   F-statistic:                     1.272\n",
      "Date:                Tue, 24 Jan 2023   Prob (F-statistic):              0.290\n",
      "Time:                        23:56:41   Log-Likelihood:                -154.08\n",
      "No. Observations:                  50   AIC:                             322.2\n",
      "Df Residuals:                      43   BIC:                             335.5\n",
      "Df Model:                           6                                         \n",
      "Covariance Type:            nonrobust                                         \n",
      "==============================================================================\n",
      "                 coef    std err          t      P>|t|      [0.025      0.975]\n",
      "------------------------------------------------------------------------------\n",
      "Intercept     22.0525     11.700      1.885      0.066      -1.542      45.647\n",
      "X6            -5.4320      6.480     -0.838      0.407     -18.500       7.636\n",
      "X7             4.3508      7.303      0.596      0.554     -10.378      19.079\n",
      "X9            -3.3448      2.881     -1.161      0.252      -9.154       2.464\n",
      "X12            0.0151      0.012      1.246      0.219      -0.009       0.040\n",
      "X14           -0.8029      0.464     -1.729      0.091      -1.740       0.134\n",
      "X15           -0.4080      0.203     -2.013      0.050      -0.817       0.001\n",
      "==============================================================================\n",
      "Omnibus:                        6.360   Durbin-Watson:                   1.478\n",
      "Prob(Omnibus):                  0.042   Jarque-Bera (JB):                5.340\n",
      "Skew:                           0.759   Prob(JB):                       0.0693\n",
      "Kurtosis:                       3.509   Cond. No.                     2.26e+03\n",
      "==============================================================================\n",
      "\n",
      "Notes:\n",
      "[1] Standard Errors assume that the covariance matrix of the errors is correctly specified.\n",
      "[2] The condition number is large, 2.26e+03. This might indicate that there are\n",
      "strong multicollinearity or other numerical problems.\n"
     ]
    }
   ],
   "source": [
    "mod = smf.ols(formula='Y3 ~ X6+X7+X9+X12+X14+X15', data=data)\n",
    "res = mod.fit()\n",
    "print(res.summary())"
   ]
  }
 ],
 "metadata": {
  "kernelspec": {
   "display_name": "Python 3",
   "language": "python",
   "name": "python3"
  },
  "language_info": {
   "codemirror_mode": {
    "name": "ipython",
    "version": 3
   },
   "file_extension": ".py",
   "mimetype": "text/x-python",
   "name": "python",
   "nbconvert_exporter": "python",
   "pygments_lexer": "ipython3",
   "version": "3.10.6 (tags/v3.10.6:9c7b4bd, Aug  1 2022, 21:53:49) [MSC v.1932 64 bit (AMD64)]"
  },
  "vscode": {
   "interpreter": {
    "hash": "465c479d053f919d377359c89ad4c649bb0ddbe885febc20311bd7a0f53a041d"
   }
  }
 },
 "nbformat": 4,
 "nbformat_minor": 4
}
